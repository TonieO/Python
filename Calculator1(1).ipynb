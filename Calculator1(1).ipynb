{
  "nbformat": 4,
  "nbformat_minor": 0,
  "metadata": {
    "colab": {
      "provenance": []
    },
    "kernelspec": {
      "name": "python3",
      "display_name": "Python 3"
    },
    "language_info": {
      "name": "python"
    }
  },
  "cells": [
    {
      "cell_type": "code",
      "source": [],
      "metadata": {
        "id": "MfIwXPDRa3eB"
      },
      "execution_count": null,
      "outputs": []
    },
    {
      "cell_type": "code",
      "source": [
        "def calculator():\n",
        "  num1 = float(input(\"enter first number:\"))\n",
        "  num2 = float(input(\"enter second number\"))\n",
        "  operator = input(\"enter operator(+,-,*,/,):\")\n",
        "  if operator == \"+\":\n",
        "    print(\"result\",(num1 + num2))\n",
        "  elif operator ==\"*\":\n",
        "    print(\"result\", (num1 * num2))\n",
        "  elif operator == \"/\":\n",
        "    if num2 == 0:\n",
        "      print(\"error division by zero is not allowed\")\n",
        "    print(\"result\", (num1 / num2))\n",
        "  else:\n",
        "    print(\"invalid operator\")\n",
        "\n",
        "calculator()"
      ],
      "metadata": {
        "id": "MEJaEo9A35xK"
      },
      "execution_count": null,
      "outputs": []
    }
  ]
}